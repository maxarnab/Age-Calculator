{
  "nbformat": 4,
  "nbformat_minor": 0,
  "metadata": {
    "colab": {
      "provenance": [],
      "authorship_tag": "ABX9TyPO+2FKi3GHJXPsNzOFjiZ4",
      "include_colab_link": true
    },
    "kernelspec": {
      "name": "python3",
      "display_name": "Python 3"
    },
    "language_info": {
      "name": "python"
    }
  },
  "cells": [
    {
      "cell_type": "markdown",
      "metadata": {
        "id": "view-in-github",
        "colab_type": "text"
      },
      "source": [
        "<a href=\"https://colab.research.google.com/github/maxarnab/Age-Calculator/blob/main/Tax_calculator_2025.ipynb\" target=\"_parent\"><img src=\"https://colab.research.google.com/assets/colab-badge.svg\" alt=\"Open In Colab\"/></a>"
      ]
    },
    {
      "cell_type": "markdown",
      "source": [
        "# **Tax Calculator 2025**"
      ],
      "metadata": {
        "id": "kxcD4lrVgBk7"
      }
    },
    {
      "cell_type": "markdown",
      "source": [
        "**Features of this Tax Calculator**\n",
        "\n",
        "✅ Takes annual income as input\n",
        "\n",
        "✅ Applies ₹75,000 standard deduction\n",
        "\n",
        "✅ Uses the latest 2025 tax slabs\n",
        "\n",
        "✅ Calculates taxable income and applies correct tax rates\n",
        "\n",
        "✅ Adds 4% Health & Education Cess"
      ],
      "metadata": {
        "id": "XbWMRGlwgOv7"
      }
    },
    {
      "cell_type": "code",
      "source": [
        "# Corrected Tax Calculator - New Tax Regime (Feb 2025)\n",
        "\n",
        "from tabulate import tabulate  # Importing tabulate for table formatting\n",
        "\n",
        "def calculate_tax(income):\n",
        "    # Standard Deduction\n",
        "    standard_deduction = 75000\n",
        "    taxable_income = max(income - standard_deduction, 0)\n",
        "\n",
        "    # Tax slabs as per new tax regime (2025)\n",
        "    slabs = [\n",
        "        (1200000, 0),    # Up to ₹12,00,000 - No tax\n",
        "        (1600000, 0.15), # ₹12,00,001 - ₹16,00,000 → 15%\n",
        "        (2000000, 0.20), # ₹16,00,001 - ₹20,00,000 → 20%\n",
        "        (2400000, 0.25), # ₹20,00,001 - ₹24,00,000 → 25%\n",
        "        (float('inf'), 0.30) # Above ₹24,00,000 → 30%\n",
        "    ]\n",
        "\n",
        "    tax = 0\n",
        "    prev_limit = 1200000  # First ₹12L is tax-free\n",
        "    tax_breakup = []\n",
        "\n",
        "    for limit, rate in slabs[1:]:  # Skip first slab (0% tax)\n",
        "        if taxable_income > prev_limit:\n",
        "            taxable_at_this_slab = min(taxable_income, limit) - prev_limit\n",
        "            slab_tax = taxable_at_this_slab * rate\n",
        "            tax += slab_tax\n",
        "            tax_breakup.append((prev_limit + 1, limit, rate * 100, taxable_at_this_slab, slab_tax))\n",
        "        else:\n",
        "            break\n",
        "        prev_limit = limit\n",
        "\n",
        "    # Apply 4% Cess on tax\n",
        "    cess = tax * 0.04\n",
        "    total_tax = tax + cess\n",
        "\n",
        "    return round(tax, 2), round(cess, 2), round(total_tax, 2), tax_breakup\n",
        "\n",
        "# Input from user\n",
        "income = float(input(\"Enter your annual income (in ₹): \"))\n",
        "tax_before_cess, cess, tax, breakdown = calculate_tax(income)\n",
        "\n",
        "# Display tax breakdown table\n",
        "headers = [\"Income Range (₹)\", \"Tax Rate (%)\", \"Taxable Amount (₹)\", \"Tax (₹)\"]\n",
        "table_data = [(f\"₹{start:,} - ₹{end:,}\", f\"{rate}%\", f\"₹{amt:,}\", f\"₹{tax_amt:,}\") for start, end, rate, amt, tax_amt in breakdown]\n",
        "\n",
        "print(\"\\n🧾 Tax Calculation Breakdown:\\n\")\n",
        "print(tabulate(table_data, headers=headers, tablefmt=\"plain\"))  # Minimalistic straight-line table\n",
        "\n",
        "# Display final tax details\n",
        "print(\"\\n___________________________________________________\")\n",
        "print(f\"  Total Tax Before Cess  = ₹{tax_before_cess:,.2f}\")\n",
        "print(f\"  Cess (4%)              = ₹{cess:,.2f}\")\n",
        "print(\"___________________________________________________\")\n",
        "print(f\"  💰 Final Tax Payable    = ₹{tax:,.2f}\")\n",
        "print(\"___________________________________________________\")\n"
      ],
      "metadata": {
        "colab": {
          "base_uri": "https://localhost:8080/"
        },
        "id": "4znjqyOdg6JD",
        "outputId": "c3645b88-a423-41c3-8b9d-d2a5b48f6603"
      },
      "execution_count": 3,
      "outputs": [
        {
          "output_type": "stream",
          "name": "stdout",
          "text": [
            "Enter your annual income (in ₹): 2500000\n",
            "\n",
            "🧾 Tax Calculation Breakdown:\n",
            "\n",
            "Income Range (₹)         Tax Rate (%)    Taxable Amount (₹)    Tax (₹)\n",
            "₹1,200,001 - ₹1,600,000  15.0%           ₹400,000              ₹60,000.0\n",
            "₹1,600,001 - ₹2,000,000  20.0%           ₹400,000              ₹80,000.0\n",
            "₹2,000,001 - ₹2,400,000  25.0%           ₹400,000              ₹100,000.0\n",
            "₹2,400,001 - ₹inf        30.0%           ₹25,000.0             ₹7,500.0\n",
            "\n",
            "___________________________________________________\n",
            "  Total Tax Before Cess  = ₹247,500.00\n",
            "  Cess (4%)              = ₹9,900.00\n",
            "___________________________________________________\n",
            "  💰 Final Tax Payable    = ₹257,400.00\n",
            "___________________________________________________\n"
          ]
        }
      ]
    }
  ]
}